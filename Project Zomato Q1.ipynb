{
 "cells": [
  {
   "cell_type": "markdown",
   "metadata": {},
   "source": [
    "# Project : Zomato API Question-1"
   ]
  },
  {
   "cell_type": "markdown",
   "metadata": {},
   "source": [
    "Plot the bar graph of number of restaurants present in Delhi NCR vs Rest of India."
   ]
  },
  {
   "cell_type": "code",
   "execution_count": 13,
   "metadata": {},
   "outputs": [],
   "source": [
    "import pandas as pd\n",
    "import matplotlib.pyplot as plt\n",
    "import csv\n",
    "import operator\n",
    "from collections import Counter"
   ]
  },
  {
   "cell_type": "code",
   "execution_count": null,
   "metadata": {},
   "outputs": [],
   "source": []
  },
  {
   "cell_type": "code",
   "execution_count": 3,
   "metadata": {},
   "outputs": [],
   "source": [
    "data = pd.read_csv('/Users/atharvjairath/Downloads/zomato.csv',encoding=\"latin-1\")"
   ]
  },
  {
   "cell_type": "code",
   "execution_count": 5,
   "metadata": {},
   "outputs": [],
   "source": [
    "data_india= data[data['Country Code']==1]\n",
    "Total_city_count,Delhi_NCR = countrestaurent(data_india) #function _call to count restaurent\n",
    "Rest_res=Total_city_count- Delhi_NCR #Rest of india restaurent count\n",
    "li=[Delhi_NCR,Rest_res]\n",
    "li_1=['Delhi_NCR','Rest_of_India'] "
   ]
  },
  {
   "cell_type": "code",
   "execution_count": 4,
   "metadata": {},
   "outputs": [],
   "source": [
    "def countrestaurent(data):\n",
    "    # DELHI-NCR Cities\n",
    "    rest_data1 = data_india[data_india['City']=='New Delhi']\n",
    "    rest_data2 = data_india[data_india['City']=='Ghaziabad'] \n",
    "    rest_data3= data_india[data_india['City']=='Noida'] \n",
    "    rest_data4= data_india[data_india['City']=='Gurgaon'] \n",
    "    rest_data5= data_india[data_india['City']=='Faridabad'] \n",
    "    # Delhi NCR city Calculations\n",
    "    rest_count = rest_data1['City'].count() + rest_data2['City'].count() + rest_data3['City'].count() + rest_data4['City'].count() + rest_data5['City'].count()\n",
    "    total_city_count = data_india['City'].count() # total number of indian city in data\n",
    "    return total_city_count,rest_count\n",
    " "
   ]
  },
  {
   "cell_type": "code",
   "execution_count": 6,
   "metadata": {},
   "outputs": [
    {
     "data": {
      "image/png": "[encoded data removed]",
      "text/plain": [
       "<Figure size 432x432 with 1 Axes>"
      ]
     },
     "metadata": {
      "needs_background": "light"
     },
     "output_type": "display_data"
    }
   ],
   "source": [
    "# Graph Plot\n",
    "plt.subplots(figsize=(6,6))\n",
    "plt.title('Number of Restaurent in Delhi NCR vs Rest of India.') \n",
    "plt.ylabel(\"Number of Restaurant\") \n",
    "plt.bar(li_1,li)\n",
    "plt.show() "
   ]
  },
  {
   "cell_type": "markdown",
   "metadata": {},
   "source": [
    "2.Find the cuisines which are not present in restaurant of Delhi NCR but present in rest of India.Check using Zomato API whether this cuisines are actually not served in restaurants of Delhi-NCR or just it due to incomplete dataset."
   ]
  },
  {
   "cell_type": "code",
   "execution_count": 7,
   "metadata": {},
   "outputs": [
    {
     "name": "stdout",
     "output_type": "stream",
     "text": [
      "CUISINES THAT ARE NOT SERVED USING IN DELHI_NCR USING zomato.csv:\n",
      "BBQ\n",
      "Cajun\n",
      "Malwani\n",
      "German\n",
      "************************************************\n"
     ]
    }
   ],
   "source": [
    "\n",
    "total_cuisines=[]\n",
    "for ele in data_india['Cuisines']:\n",
    "    p=ele.split(\",\") #split the cuisienes on the basis of \",\" .\n",
    "    for i in range(len(p)):\n",
    "        p[i]=p[i].strip() # removed extra space from list element.\n",
    "    total_cuisines+=p   # calculations of all cuisines serve in all india.\n",
    "\n",
    "total_cuisines = set(total_cuisines) # convert in set to remove duplicate value of cuisine\n",
    "\n",
    "delhi_ncr_cuisines=[]\n",
    "\n",
    "l=['New Delhi','Ghaziabad','Noida','Gurgaon','Faridabad'] #Delhi_NCR city\n",
    "for i in l:\n",
    "    p=data_india[data_india.City==i]\n",
    "    for ele in p['Cuisines']:\n",
    "        s=ele.split(\",\")      #split the cuisienes on the basis of \",\" .\n",
    "        for i in range(len(s)):\n",
    "            s[i]=s[i].strip()  # removed extra space from list element.\n",
    "        delhi_ncr_cuisines+=s # calculations of all cuisines serve in DELHI-NCR.\n",
    "        \n",
    "delhi_ncr_cuisines = set(delhi_ncr_cuisines) # convert in set to remove duplicate value of cuisine\n",
    "\n",
    "cuisines_not_in_Delhi=total_cuisines.difference(delhi_ncr_cuisines) # set Difference of total_cuisines and delhi_ncr_cuisines will give cuisines,\n",
    "print(\"CUISINES THAT ARE NOT SERVED USING IN DELHI_NCR USING zomato.csv:\")                                                # that not served in DELHI-NCR\n",
    "for e in cuisines_not_in_Delhi:\n",
    "    print(e)   ## Cuisine not present in Delhi NCR but present in rest of india\n",
    "print(\"************************************************\")  \n"
   ]
  },
  {
   "cell_type": "code",
   "execution_count": 8,
   "metadata": {},
   "outputs": [
    {
     "name": "stdout",
     "output_type": "stream",
     "text": [
      "CUISINES THAT ARE NOT SERVED IN DELHI_NCR USING ZOMATO API:\n",
      "Cajun\n",
      "German\n"
     ]
    }
   ],
   "source": [
    "# list of cuisines actually present in Delhi NCR using Zomato API.\n",
    "import requests \n",
    "import json \n",
    "\n",
    "h = {'user-key' : '3b329b7e62d61368d1f579defae896ea'} \n",
    "p={'q':'delhi'} \n",
    "r = requests.get('https://developers.zomato.com/api/v2.1/cities', headers = h,params=p)\n",
    "p=r.json()\n",
    "city=p['location_suggestions'] ion \n",
    "for ele in city:\n",
    "    city_id=ele['id'] #finding the id of the city.\n",
    "    break\n",
    "response = requests.get('https://developers.zomato.com/api/v2.1/cuisines', headers = h,params={'city_id':city_id})  \n",
    "response=response.json()\n",
    "cuisines_name_with_id={}\n",
    "for i in response['cuisines']:\n",
    "    cuisines_name_with_id[i['cuisine'].get('cuisine_name')]=i['cuisine'].get('cuisine_id') #making dictionary of key as cusines name and value as id\n",
    "print(\"CUISINES THAT ARE NOT SERVED IN DELHI_NCR USING ZOMATO API:\")\n",
    "for ele in cuisines_not_in_Delhi:\n",
    "    if ele not in cuisines_name_with_id:\n",
    "        print(ele)"
   ]
  },
  {
   "cell_type": "markdown",
   "metadata": {},
   "source": [
    "Hence Dataset is Incomplete."
   ]
  },
  {
   "cell_type": "markdown",
   "metadata": {},
   "source": [
    "3.Find the top 10 cuisines served by maximum number of restaurants in Delhi NCR and rest of India."
   ]
  },
  {
   "cell_type": "code",
   "execution_count": 9,
   "metadata": {},
   "outputs": [],
   "source": [
    "\n",
    "total_cuisines=[]\n",
    "l=['New Delhi','Ghaziabad','Noida','Gurgaon','Faridabad'] #Delhi_NCR city\n",
    "for (ele, e) in zip(data_india['Cuisines'],data_india['City']): \n",
    "    if e.strip() not in l: # city that not in ['New Delhi','Ghaziabad','Noida','Gurgaon','Faridabad ']\n",
    "        p=ele.split(\",\")   \n",
    "        for i in range(len(p)):\n",
    "            p[i]=p[i].strip()  \n",
    "        total_cuisines+=p      # calculations of all cuisines serve in all india.\n",
    "    \n",
    "delhi_ncr_cuisines=[]\n",
    "\n",
    "l=['New Delhi','Ghaziabad','Noida','Gurgaon','Faridabad'] \n",
    "for i in l:\n",
    "    p=data_india[data_india.City==i]\n",
    "    for ele in p['Cuisines']:\n",
    "        s=ele.split(\",\")      \n",
    "        for i in range(len(s)):\n",
    "            s[i]=s[i].strip()  \n",
    "        delhi_ncr_cuisines+=s # calculations of all cuisines serve in DELHI-NCR."
   ]
  },
  {
   "cell_type": "code",
   "execution_count": null,
   "metadata": {},
   "outputs": [],
   "source": []
  },
  {
   "cell_type": "code",
   "execution_count": 14,
   "metadata": {},
   "outputs": [
    {
     "name": "stdout",
     "output_type": "stream",
     "text": [
      "TOP 10 CUISINE SERVED IN MAXIMUM NUMBER OF RESTAURANTS IN REST OF INDIA:\n",
      "------------------------------------------------------------------------\n",
      "CUISINE\t\t| NUMBER OF RESTAURANTS \n",
      "North Indian    |        349\n",
      "Chinese         |        242\n",
      "Continental     |        177\n",
      "Italian         |        147\n",
      "Cafe            |        136\n",
      "Fast Food       |         97\n",
      "South Indian    |         62\n",
      "Mughlai         |         59\n",
      "Desserts        |         55\n",
      "Mexican         |         50\n",
      "\n",
      "\n",
      "TOP 10 CUISINE SERVED IN MAXIMUM NUMBER OF RESTAURANTS IN DELHI-NCR:\n",
      "------------------------------------------------------------------------\n",
      "CUISINE\t\t| NUMBER OF RESTAURANTS \n",
      "North Indian    |       3597\n",
      "Chinese         |       2448\n",
      "Fast Food       |       1866\n",
      "Mughlai         |        933\n",
      "Bakery          |        697\n",
      "South Indian    |        569\n",
      "Continental     |        547\n",
      "Desserts        |        542\n",
      "Street Food     |        538\n",
      "Italian         |        535\n"
     ]
    }
   ],
   "source": [
    "p1=Counter(total_cuisines).most_common(10) # counter to count that which cuisine served in maximum resataurants        \n",
    "p2=Counter(delhi_ncr_cuisines).most_common(10) # counter to count that which cuisine served in maximum resataurants \n",
    "x_Delhi_ncr=[]\n",
    "y_Delhi_ncr=[]\n",
    "x_rest_india=[]\n",
    "y_rest_india=[]\n",
    "print(\"TOP 10 CUISINE SERVED IN MAXIMUM NUMBER OF RESTAURANTS IN REST OF INDIA:\")\n",
    "print(\"------------------------------------------------------------------------\")\n",
    "print(\"CUISINE\\t\\t| NUMBER OF RESTAURANTS \")\n",
    "for ele in p1:\n",
    "    x_rest_india.append(ele[0])\n",
    "    y_rest_india.append(ele[1])\n",
    "    print('{:<16s}|{:>11d}'.format(ele[0],ele[1]))\n",
    "print()    \n",
    "print()    \n",
    "print(\"TOP 10 CUISINE SERVED IN MAXIMUM NUMBER OF RESTAURANTS IN DELHI-NCR:\")\n",
    "print(\"------------------------------------------------------------------------\")\n",
    "print(\"CUISINE\\t\\t| NUMBER OF RESTAURANTS \")\n",
    "for ele in p2:\n",
    "    x_Delhi_ncr.append(ele[0])\n",
    "    y_Delhi_ncr.append(ele[1])\n",
    "    print('{:<16s}|{:>11d}'.format(ele[0],ele[1]))"
   ]
  },
  {
   "cell_type": "code",
   "execution_count": null,
   "metadata": {},
   "outputs": [],
   "source": []
  },
  {
   "cell_type": "code",
   "execution_count": 15,
   "metadata": {},
   "outputs": [
    {
     "data": {
      "image/png": "[encoded data removed]",
      "text/plain": [
       "<Figure size 1152x432 with 1 Axes>"
      ]
     },
     "metadata": {
      "needs_background": "light"
     },
     "output_type": "display_data"
    },
    {
     "data": {
      "image/png": "[encoded data removed]",
      "text/plain": [
       "<Figure size 1152x432 with 1 Axes>"
      ]
     },
     "metadata": {
      "needs_background": "light"
     },
     "output_type": "display_data"
    }
   ],
   "source": [
    "#PLOTTING OF GRAPH    \n",
    "plt.subplots(figsize=(16,6))\n",
    "plt.bar(x_rest_india,y_rest_india)\n",
    "plt.title(\"Rest of India Cuisines\")\n",
    "plt.xlabel('Cuisines') #x_labels\n",
    "plt.ylabel('Number of Restaurant') #Y_labels\n",
    "plt.show()\n",
    "plt.subplots(figsize=(16,6))\n",
    "plt.bar(x_Delhi_ncr,y_Delhi_ncr,)\n",
    "plt.title(\"Delhi-NCR Cuisines\")\n",
    "plt.xlabel('Cuisines')\n",
    "plt.ylabel('Number of Restaurant')\n",
    "plt.show()"
   ]
  },
  {
   "cell_type": "markdown",
   "metadata": {},
   "source": [
    "Write a short detailed analysis of how cuisine served is different from Delhi NCR to Rest of India. Plot the suitable graph to explain your inference."
   ]
  },
  {
   "cell_type": "code",
   "execution_count": 17,
   "metadata": {},
   "outputs": [
    {
     "name": "stdout",
     "output_type": "stream",
     "text": [
      "TOP 10 CUISINE SERVED IN MAXIMUM NUMBER OF RESTAURANTS IN REST OF INDIA:\n",
      "------------------------------------------------------------------------\n",
      "CUISINE\t\t| NUMBER OF RESTAURANTS \n",
      "North Indian    |        349\n",
      "Chinese         |        242\n",
      "Continental     |        177\n",
      "Italian         |        147\n",
      "Cafe            |        136\n",
      "Fast Food       |         97\n",
      "South Indian    |         62\n",
      "Mughlai         |         59\n",
      "Desserts        |         55\n",
      "Mexican         |         50\n",
      "\n",
      "\n",
      "TOP 10 CUISINE SERVED IN MAXIMUM NUMBER OF RESTAURANTS IN DELHI-NCR:\n",
      "------------------------------------------------------------------------\n",
      "CUISINE\t\t| NUMBER OF RESTAURANTS \n",
      "North Indian    |       3597\n",
      "Chinese         |       2448\n",
      "Fast Food       |       1866\n",
      "Mughlai         |        933\n",
      "Bakery          |        697\n",
      "South Indian    |        569\n",
      "Continental     |        547\n",
      "Desserts        |        542\n",
      "Street Food     |        538\n",
      "Italian         |        535\n"
     ]
    },
    {
     "data": {
      "image/png": "[encoded data removed]",
      "text/plain": [
       "<Figure size 1152x432 with 1 Axes>"
      ]
     },
     "metadata": {
      "needs_background": "light"
     },
     "output_type": "display_data"
    },
    {
     "data": {
      "image/png": "[encoded data removed]",
      "text/plain": [
       "<Figure size 1152x432 with 1 Axes>"
      ]
     },
     "metadata": {
      "needs_background": "light"
     },
     "output_type": "display_data"
    }
   ],
   "source": [
    "\n",
    "Delhi_top=[]\n",
    "rest_top=[]\n",
    "count1=[]\n",
    "count2=[]\n",
    "\n",
    "print(\"TOP 10 CUISINE SERVED IN MAXIMUM NUMBER OF RESTAURANTS IN REST OF INDIA:\")\n",
    "print(\"------------------------------------------------------------------------\")\n",
    "print(\"CUISINE\\t\\t| NUMBER OF RESTAURANTS \")\n",
    "for ele in p1:\n",
    "    rest_top.append(ele[0])\n",
    "    count1.append(ele[1])\n",
    "    print('{:<16s}|{:>11d}'.format(ele[0],ele[1]))\n",
    "print()    \n",
    "print()    \n",
    "print(\"TOP 10 CUISINE SERVED IN MAXIMUM NUMBER OF RESTAURANTS IN DELHI-NCR:\")\n",
    "print(\"------------------------------------------------------------------------\")\n",
    "print(\"CUISINE\\t\\t| NUMBER OF RESTAURANTS \")\n",
    "for ele in p2:\n",
    "    Delhi_top.append(ele[0])\n",
    "    count2.append(ele[1])\n",
    "    print('{:<16s}|{:>11d}'.format(ele[0],ele[1]))\n",
    "    \n",
    "#PLOTTING OF GRAPH    \n",
    "plt.subplots(figsize=(16,6))\n",
    "plt.bar(x_rest_india,y_rest_india)\n",
    "plt.title(\"Rest of India Cuisines\")\n",
    "plt.xlabel('Cuisines') #x_labels\n",
    "plt.ylabel('Number of Restaurant') #Y_labels\n",
    "plt.show()\n",
    "plt.subplots(figsize=(16,6))\n",
    "plt.bar(x_Delhi_ncr,y_Delhi_ncr,)\n",
    "plt.title(\"Delhi-NCR Cuisines\")\n",
    "plt.xlabel('Cuisines') #x_labels\n",
    "plt.ylabel('Number of Restaurant') #Y_labels\n",
    "plt.show()"
   ]
  },
  {
   "cell_type": "code",
   "execution_count": null,
   "metadata": {},
   "outputs": [],
   "source": []
  }
 ],
 "metadata": {
  "kernelspec": {
   "display_name": "Python 3",
   "language": "python",
   "name": "python3"
  },
  "language_info": {
   "codemirror_mode": {
    "name": "ipython",
    "version": 3
   },
   "file_extension": ".py",
   "mimetype": "text/x-python",
   "name": "python",
   "nbconvert_exporter": "python",
   "pygments_lexer": "ipython3",
   "version": "3.7.3"
  }
 },
 "nbformat": 4,
 "nbformat_minor": 2
}
